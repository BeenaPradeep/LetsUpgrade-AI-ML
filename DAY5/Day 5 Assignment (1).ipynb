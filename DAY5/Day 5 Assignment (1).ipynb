{
 "cells": [
  {
   "cell_type": "code",
   "execution_count": 35,
   "metadata": {},
   "outputs": [
    {
     "name": "stdout",
     "output_type": "stream",
     "text": [
      "first 20 non even  Prime numbers are:\n",
      "3\n",
      "5\n",
      "7\n",
      "11\n",
      "13\n",
      "17\n",
      "19\n",
      "23\n",
      "29\n",
      "31\n",
      "37\n",
      "41\n",
      "43\n",
      "47\n",
      "53\n",
      "59\n",
      "61\n",
      "67\n",
      "71\n",
      "73\n"
     ]
    }
   ],
   "source": [
    "low = 0\n",
    "high = 100\n",
    "count=0\n",
    "print(\"first 20 non even  Prime numbers are:\")\n",
    "\n",
    "for num in range(low, high + 1):\n",
    "   if num > 2:\n",
    "       for i in range(2, num):\n",
    "           if (num % i) == 0:\n",
    "               break\n",
    "       else:\n",
    "           if count < 20:\n",
    "                count=count+1\n",
    "                print(num)\n",
    "                "
   ]
  },
  {
   "cell_type": "code",
   "execution_count": 124,
   "metadata": {},
   "outputs": [
    {
     "name": "stdout",
     "output_type": "stream",
     "text": [
      "13\n",
      "False\n",
      "beena pradeep\n",
      "BEENA PRADEEP\n",
      "Buuna Praduup\n",
      "True\n",
      "False\n",
      "False\n",
      "s333a333n333a333v\n",
      "SANAV\n",
      "Sanav\n",
      "4\n",
      "9\n",
      "True\n",
      "True\n"
     ]
    }
   ],
   "source": [
    "s1=\"Beena Pradeep\"\n",
    "s2=\"sanav\"\n",
    "s3=\"333\"\n",
    "print(len(s1))\n",
    "print(s1.isnumeric())\n",
    "print(s1.lower())\n",
    "print(s1.upper())\n",
    "print(s1.replace('e','u'))\n",
    "print(s2.islower())\n",
    "print(s2.isdigit())\n",
    "print(s2.isspace())\n",
    "print(s3.join(s2))\n",
    "print(s2.swapcase())\n",
    "print(s2.capitalize())\n",
    "print(s1.count('e'))\n",
    "print(s1.find('d'))\n",
    "print(s3.isalnum())\n",
    "print(s3.isdigit())\n"
   ]
  },
  {
   "cell_type": "code",
   "execution_count": 97,
   "metadata": {},
   "outputs": [
    {
     "name": "stdout",
     "output_type": "stream",
     "text": [
      "The strings are anagrams.\n"
     ]
    }
   ],
   "source": [
    "s1 = 'silent'\n",
    "s2='listen'\n",
    "rev = reversed(s1)\n",
    "rev1=reversed(s2)\n",
    "if list(s1) == list(rev):\n",
    "   print(\"The string1 is a palindrome.\")\n",
    "elif list(s2) == list(rev1):\n",
    "   print(\"The string2 is a palindrome.\")\n",
    "elif (sorted(s1)== sorted(s2)): \n",
    "        print(\"The strings are anagrams.\")  \n",
    "else: \n",
    "        print(\"The strings aren't palindrome or anagrams.\")          \n",
    "          "
   ]
  },
  {
   "cell_type": "code",
   "execution_count": 123,
   "metadata": {},
   "outputs": [
    {
     "name": "stdout",
     "output_type": "stream",
     "text": [
      "Original String : Mrs Beena Pradeep @gmail.com\n",
      "Resultant list is : MrsBeenaPradeepgmailcom\n",
      "mrsbeenapradeepgmailcom\n"
     ]
    }
   ],
   "source": [
    " \n",
    "def conversion(s1):\n",
    "    w = [';', ':', '!', \"*\",' ','@','.'] \n",
    "  \n",
    "    s1 = \"Mrs Beena Pradeep @gmail.com\"\n",
    "  \n",
    "    print (\"Original String : \" + s1) \n",
    "  \n",
    "\n",
    "    for i in w : \n",
    "            s1 = s1.replace(i,'') \n",
    "\n",
    "    print (\"Resultant list is : \" + s1)\n",
    "    print(s1.lower())\n",
    "conversion(s1)"
   ]
  },
  {
   "cell_type": "code",
   "execution_count": null,
   "metadata": {},
   "outputs": [],
   "source": []
  }
 ],
 "metadata": {
  "kernelspec": {
   "display_name": "Python 3",
   "language": "python",
   "name": "python3"
  },
  "language_info": {
   "codemirror_mode": {
    "name": "ipython",
    "version": 3
   },
   "file_extension": ".py",
   "mimetype": "text/x-python",
   "name": "python",
   "nbconvert_exporter": "python",
   "pygments_lexer": "ipython3",
   "version": "3.7.6"
  }
 },
 "nbformat": 4,
 "nbformat_minor": 4
}
