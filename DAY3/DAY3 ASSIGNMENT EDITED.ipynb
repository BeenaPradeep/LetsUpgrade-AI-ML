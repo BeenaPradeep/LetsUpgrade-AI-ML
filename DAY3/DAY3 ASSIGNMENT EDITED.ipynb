{
 "cells": [
  {
   "cell_type": "code",
   "execution_count": 4,
   "metadata": {},
   "outputs": [
    {
     "name": "stdout",
     "output_type": "stream",
     "text": [
      "enter first complex number\n",
      "None3+6j\n",
      "first number is= (3+6j)\n",
      "enter second complex number\n",
      "None7+9j\n",
      "the second number is= (7+9j)\n",
      "the subtraction of a and b is (-4-3j)\n"
     ]
    }
   ],
   "source": [
    "a= complex(input(print(\"enter first complex number\")))\n",
    "print(\"first number is=\",a)\n",
    "b= complex(input(print(\"enter second complex number\")))\n",
    "print(\"the second number is=\",b)\n",
    "c= a-b\n",
    "print(\"the subtraction of a and b is\",c)"
   ]
  },
  {
   "cell_type": "code",
   "execution_count": 3,
   "metadata": {},
   "outputs": [
    {
     "name": "stdout",
     "output_type": "stream",
     "text": [
      "enter the number6\n",
      "fourth root of a number is  1.5650845800732873\n"
     ]
    }
   ],
   "source": [
    "\n",
    "a=float(input(\"enter the number\"))\n",
    "b=a**0.25\n",
    "print(\"fourth root of a number is \",b)"
   ]
  },
  {
   "cell_type": "code",
   "execution_count": 6,
   "metadata": {},
   "outputs": [
    {
     "name": "stdout",
     "output_type": "stream",
     "text": [
      "enter first number3\n",
      "enter second number7\n",
      "befor swapping a= 3 and b=  7\n",
      "after swapping a= 7 and b=  3\n"
     ]
    }
   ],
   "source": [
    "a=int(input(\"enter first number\"))\n",
    "b=int(input(\"enter second number\"))\n",
    "print(\"befor swapping a=\",a,\"and b= \",b)\n",
    "temp=a\n",
    "a=b\n",
    "b=temp\n",
    "print(\"after swapping a=\",a,\"and b= \",b)"
   ]
  },
  {
   "cell_type": "code",
   "execution_count": 7,
   "metadata": {},
   "outputs": [
    {
     "name": "stdout",
     "output_type": "stream",
     "text": [
      "enter the temperture in Fahrenheit309.333333333\n",
      "temperature in Kelvin= 427.5740740738889 temperatutre i Celsius is= 154.07407407388888\n"
     ]
    }
   ],
   "source": [
    "temp= float(input(\"enter the temperture in Fahrenheit\"))\n",
    "K=273.5+((temp-32) * (5/9))\n",
    "C=(5/9) * (temp-32)\n",
    "print(\"temperature in Kelvin=\",K,\"temperatutre i Celsius is=\",C)\n"
   ]
  },
  {
   "cell_type": "code",
   "execution_count": 10,
   "metadata": {},
   "outputs": [
    {
     "name": "stdout",
     "output_type": "stream",
     "text": [
      "<class 'int'>\n",
      "<class 'float'>\n",
      "<class 'bool'>\n",
      "<class 'complex'>\n",
      "<class 'list'>\n",
      "<class 'tuple'>\n",
      "<class 'dict'>\n",
      "<class 'str'>\n"
     ]
    }
   ],
   "source": [
    "a=10\n",
    "print(type(a))\n",
    "b=10.999\n",
    "print(type(b))\n",
    "c=True\n",
    "print(type(c))\n",
    "d=3+4j\n",
    "print(type(d))\n",
    "d=[1,2,3]\n",
    "print(type(d))\n",
    "e=(1,2,3)\n",
    "print(type(e))\n",
    "f={a:1,b:2}\n",
    "print(type(f))\n",
    "h=\"HI\"\n",
    "print(type(h))"
   ]
  },
  {
   "cell_type": "markdown",
   "metadata": {},
   "source": [
    "Create a Github public repo and name it LetsUpgrade AI/ML \n",
    "Upload the files/solution in the repo in day wise manner. \n",
    "Copy the URL of the Folder of that day and paste in the Assignment Submission Form (Google Form) \n",
    "Make sure you are filling correct details in the Assignment Submission Form"
   ]
  },
  {
   "cell_type": "markdown",
   "metadata": {},
   "source": []
  }
 ],
 "metadata": {
  "kernelspec": {
   "display_name": "Python 3",
   "language": "python",
   "name": "python3"
  },
  "language_info": {
   "codemirror_mode": {
    "name": "ipython",
    "version": 3
   },
   "file_extension": ".py",
   "mimetype": "text/x-python",
   "name": "python",
   "nbconvert_exporter": "python",
   "pygments_lexer": "ipython3",
   "version": "3.7.6"
  }
 },
 "nbformat": 4,
 "nbformat_minor": 4
}
