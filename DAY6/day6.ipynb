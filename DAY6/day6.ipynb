{
 "cells": [
  {
   "cell_type": "code",
   "execution_count": 2,
   "metadata": {},
   "outputs": [
    {
     "name": "stdout",
     "output_type": "stream",
     "text": [
      "enter the mail address\n",
      "Nonebinakantharaj@gmail.com\n",
      "binakantharaj@gmail.com\n",
      "gmail\n"
     ]
    }
   ],
   "source": [
    "lst=[]\n",
    "name= input(print(\"enter the mail address\"))\n",
    "print(name)\n",
    "i=name.find(\"@\")\n",
    "#print(i)\n",
    "j=name.find(\".com\")\n",
    "#print(j)\n",
    "for num in range(i+1,j):\n",
    "    lst.append(name[num])\n",
    "print(''.join(lst))"
   ]
  },
  {
   "cell_type": "code",
   "execution_count": 3,
   "metadata": {},
   "outputs": [
    {
     "name": "stdout",
     "output_type": "stream",
     "text": [
      "enter the wordshi,bangalore,today\n",
      "['hi', 'bangalore', 'today']\n",
      "['bangalore', 'hi', 'today']\n",
      "bangalore,hi,today\n"
     ]
    }
   ],
   "source": [
    "\n",
    "inp=input(\"enter the words\")\n",
    "items=[x for x in inp.split(',')]\n",
    "print(items)\n",
    "items.sort()\n",
    "print(items)\n",
    "print (','.join(items))"
   ]
  },
  {
   "cell_type": "code",
   "execution_count": 4,
   "metadata": {},
   "outputs": [
    {
     "name": "stdout",
     "output_type": "stream",
     "text": [
      "Missing number is 5\n"
     ]
    }
   ],
   "source": [
    "lst=[1,2,4,6,3,7,8]\n",
    "var=sum(lst)\n",
    "#print(var)\n",
    "var2=max(lst)\n",
    "#print(var2)\n",
    "var3=0\n",
    "for i in range(1,var2+1):\n",
    "    var3+=i\n",
    "print(\"Missing number is\",var3-var)"
   ]
  },
  {
   "cell_type": "code",
   "execution_count": 6,
   "metadata": {},
   "outputs": [
    {
     "name": "stdout",
     "output_type": "stream",
     "text": [
      "[12, 24, 35, 88, 120, 155]\n"
     ]
    }
   ],
   "source": [
    "mylist = [12,24,35,24,88,120,155,88,120,155]\n",
    "mylist = list(dict.fromkeys(mylist))\n",
    "print(mylist)"
   ]
  },
  {
   "cell_type": "code",
   "execution_count": 7,
   "metadata": {},
   "outputs": [
    {
     "name": "stdout",
     "output_type": "stream",
     "text": [
      "{'green', 'red', 'blue'}\n"
     ]
    }
   ],
   "source": [
    "thisset = {\"red\", \"blue\", \"green\"}\n",
    "print(thisset)"
   ]
  },
  {
   "cell_type": "code",
   "execution_count": 9,
   "metadata": {},
   "outputs": [
    {
     "name": "stdout",
     "output_type": "stream",
     "text": [
      "green\n",
      "red\n",
      "blue\n"
     ]
    }
   ],
   "source": [
    "\n",
    "thisset = {\"red\", \"blue\", \"green\"}\n",
    "\n",
    "for x in thisset:\n",
    "  print(x)"
   ]
  },
  {
   "cell_type": "code",
   "execution_count": 11,
   "metadata": {},
   "outputs": [
    {
     "name": "stdout",
     "output_type": "stream",
     "text": [
      "True\n"
     ]
    }
   ],
   "source": [
    "thisset = {\"red\",\"blue\",\"green\"}\n",
    "\n",
    "print(\"blue\" in thisset)"
   ]
  },
  {
   "cell_type": "code",
   "execution_count": 12,
   "metadata": {},
   "outputs": [
    {
     "name": "stdout",
     "output_type": "stream",
     "text": [
      "{'green', 'red', 'orange', 'blue'}\n"
     ]
    }
   ],
   "source": [
    "thisset = {\"red\",\"blue\",\"green\"}\n",
    "\n",
    "thisset.add(\"orange\")\n",
    "\n",
    "print(thisset)"
   ]
  },
  {
   "cell_type": "code",
   "execution_count": 13,
   "metadata": {},
   "outputs": [
    {
     "name": "stdout",
     "output_type": "stream",
     "text": [
      "{'purple', 'white', 'green', 'red', 'orange', 'blue'}\n"
     ]
    }
   ],
   "source": [
    "\n",
    "thisset = {\"red\",\"blue\",\"green\"}\n",
    "\n",
    "thisset.update([\"orange\", \"white\", \"purple\"])\n",
    "\n",
    "print(thisset)"
   ]
  },
  {
   "cell_type": "code",
   "execution_count": 14,
   "metadata": {},
   "outputs": [
    {
     "name": "stdout",
     "output_type": "stream",
     "text": [
      "3\n"
     ]
    }
   ],
   "source": [
    "thisset = {\"red\",\"blue\",\"green\"}\n",
    "\n",
    "print(len(thisset))"
   ]
  },
  {
   "cell_type": "code",
   "execution_count": 15,
   "metadata": {},
   "outputs": [
    {
     "name": "stdout",
     "output_type": "stream",
     "text": [
      "{'green', 'red'}\n"
     ]
    }
   ],
   "source": [
    "\n",
    "thisset = {\"red\",\"blue\",\"green\"}\n",
    "thisset.remove(\"blue\")\n",
    "\n",
    "print(thisset)"
   ]
  },
  {
   "cell_type": "code",
   "execution_count": 16,
   "metadata": {},
   "outputs": [
    {
     "name": "stdout",
     "output_type": "stream",
     "text": [
      "{'green', 'red'}\n"
     ]
    }
   ],
   "source": [
    "thisset = {\"red\",\"blue\",\"green\"}\n",
    "\n",
    "thisset.discard(\"blue\")\n",
    "\n",
    "print(thisset)"
   ]
  },
  {
   "cell_type": "code",
   "execution_count": 17,
   "metadata": {},
   "outputs": [
    {
     "name": "stdout",
     "output_type": "stream",
     "text": [
      "green\n",
      "{'red', 'blue'}\n"
     ]
    }
   ],
   "source": [
    "\n",
    "thisset = {\"red\",\"blue\",\"green\"}\n",
    "\n",
    "x = thisset.pop()\n",
    "\n",
    "print(x)\n",
    "\n",
    "print(thisset)"
   ]
  },
  {
   "cell_type": "code",
   "execution_count": 19,
   "metadata": {},
   "outputs": [
    {
     "name": "stdout",
     "output_type": "stream",
     "text": [
      "set()\n"
     ]
    }
   ],
   "source": [
    "thisset = {\"red\",\"blue\",\"green\"}\n",
    "\n",
    "thisset.clear()\n",
    "\n",
    "print(thisset)"
   ]
  },
  {
   "cell_type": "code",
   "execution_count": 21,
   "metadata": {},
   "outputs": [
    {
     "name": "stdout",
     "output_type": "stream",
     "text": [
      "{1, 2, 3, 'b', 'c', 'a'}\n"
     ]
    }
   ],
   "source": [
    "set1 = {\"a\", \"b\" , \"c\",\"a\"}\n",
    "set2 = {1, 2, 3}\n",
    "\n",
    "set3 = set1.union(set2)\n",
    "print(set3)"
   ]
  },
  {
   "cell_type": "code",
   "execution_count": 22,
   "metadata": {},
   "outputs": [
    {
     "name": "stdout",
     "output_type": "stream",
     "text": [
      "{1, 2, 3, 'b', 'c', 'a'}\n"
     ]
    }
   ],
   "source": [
    "set1 = {\"a\", \"b\" , \"c\"}\n",
    "set2 = {1, 2, 3}\n",
    "\n",
    "set1.update(set2)\n",
    "print(set1)"
   ]
  },
  {
   "cell_type": "code",
   "execution_count": null,
   "metadata": {},
   "outputs": [],
   "source": []
  }
 ],
 "metadata": {
  "kernelspec": {
   "display_name": "Python 3",
   "language": "python",
   "name": "python3"
  },
  "language_info": {
   "codemirror_mode": {
    "name": "ipython",
    "version": 3
   },
   "file_extension": ".py",
   "mimetype": "text/x-python",
   "name": "python",
   "nbconvert_exporter": "python",
   "pygments_lexer": "ipython3",
   "version": "3.7.6"
  }
 },
 "nbformat": 4,
 "nbformat_minor": 4
}
